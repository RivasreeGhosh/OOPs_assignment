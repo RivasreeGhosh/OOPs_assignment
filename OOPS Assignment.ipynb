{
 "cells": [
  {
   "cell_type": "markdown",
   "id": "4e57ff83-c144-4324-a5d2-d673dd8fe426",
   "metadata": {},
   "source": [
    "Q1. Explain Class and Object with respect to Object-Oriented Programming. Give a suitable example."
   ]
  },
  {
   "cell_type": "markdown",
   "id": "14ecee17-3b76-4ed2-b749-ad3adec94c90",
   "metadata": {},
   "source": [
    "A class is considered as a blueprint of objects and an object is called an instance of a class.\n",
    "\n",
    "Suppose vehicle is a class then we can consider bike, car, truck are the objects of vehicle class."
   ]
  },
  {
   "cell_type": "markdown",
   "id": "a8623677-283b-487b-a6c9-cf3e5e3c79e5",
   "metadata": {},
   "source": [
    "Q2. Name the four pillars of OOPs."
   ]
  },
  {
   "cell_type": "markdown",
   "id": "74028eae-c5ad-4f1a-8b78-9ab7e6ca4057",
   "metadata": {},
   "source": [
    "1. Abstraction\n",
    "2. Encapsulation\n",
    "3. Inheritance\n",
    "4. Polymorphism"
   ]
  },
  {
   "cell_type": "markdown",
   "id": "b467535d-be05-4775-add7-c20562459608",
   "metadata": {},
   "source": [
    "Q3. Explain why the __init__() function is used. Give a suitable example."
   ]
  },
  {
   "cell_type": "markdown",
   "id": "7e24fee8-566f-4c0c-94cd-fed450c96ebd",
   "metadata": {},
   "source": [
    "It is knows as the constructor in OOPS. It is used for assigning values."
   ]
  },
  {
   "cell_type": "code",
   "execution_count": 1,
   "id": "e38a7817-e941-411e-a2d9-414f0d87bbe0",
   "metadata": {},
   "outputs": [],
   "source": [
    "class vehicle:\n",
    "    def __init__(self, bike, car):\n",
    "        self.__bike = bike\n",
    "        self.__car = car\n",
    "        \n",
    "    def veh_name(self):\n",
    "        return self.__bike,self.__car"
   ]
  },
  {
   "cell_type": "code",
   "execution_count": 2,
   "id": "e3b3f109-0c1a-43b5-ac28-99b6c0e09577",
   "metadata": {},
   "outputs": [],
   "source": [
    "obj_veh = vehicle('Splendor','Toyota')"
   ]
  },
  {
   "cell_type": "code",
   "execution_count": 3,
   "id": "ec32034d-1eea-435b-aec6-5723e79cca20",
   "metadata": {},
   "outputs": [
    {
     "data": {
      "text/plain": [
       "('Splendor', 'Toyota')"
      ]
     },
     "execution_count": 3,
     "metadata": {},
     "output_type": "execute_result"
    }
   ],
   "source": [
    "obj_veh.veh_name()"
   ]
  },
  {
   "cell_type": "markdown",
   "id": "4a8b3e66-e900-4f9a-8b62-e6a95b8f44af",
   "metadata": {},
   "source": [
    "Q4. Why self is used in OOPs?"
   ]
  },
  {
   "cell_type": "markdown",
   "id": "5f4f781d-008f-4b18-81ae-17a8d9c48f94",
   "metadata": {},
   "source": [
    "The self variable is used to represent the instance of the class, it works as the pointer to the object."
   ]
  },
  {
   "cell_type": "markdown",
   "id": "6af0f1e8-b0cb-44f9-9e22-0e56e4c835f9",
   "metadata": {},
   "source": [
    "Q5. What is inheritance? Give an example for each type of inheritance."
   ]
  },
  {
   "cell_type": "markdown",
   "id": "0d3c5862-e42e-4a96-83a5-55f64feb3a1b",
   "metadata": {},
   "source": [
    "Inheritance is the property which allows one class to inherits the properties of another class."
   ]
  },
  {
   "cell_type": "code",
   "execution_count": 4,
   "id": "8dcdf37d-6ba2-46be-8e0f-b12b8903d31f",
   "metadata": {},
   "outputs": [],
   "source": [
    "class veh2(vehicle):\n",
    "    pass"
   ]
  },
  {
   "cell_type": "code",
   "execution_count": 6,
   "id": "8a77bdc1-6b73-47e5-8157-f89d7460a3da",
   "metadata": {},
   "outputs": [],
   "source": [
    "obj_veh2 = veh2('maestro','ferrari')"
   ]
  },
  {
   "cell_type": "code",
   "execution_count": 9,
   "id": "cb263cf5-a3ce-46e5-a415-d555c437d511",
   "metadata": {},
   "outputs": [
    {
     "data": {
      "text/plain": [
       "('maestro', 'ferrari')"
      ]
     },
     "execution_count": 9,
     "metadata": {},
     "output_type": "execute_result"
    }
   ],
   "source": [
    "obj_veh2.veh_name()"
   ]
  },
  {
   "cell_type": "code",
   "execution_count": null,
   "id": "7060eb0d-df57-4ebb-8a95-993df6703e9a",
   "metadata": {},
   "outputs": [],
   "source": []
  }
 ],
 "metadata": {
  "kernelspec": {
   "display_name": "Python 3 (ipykernel)",
   "language": "python",
   "name": "python3"
  },
  "language_info": {
   "codemirror_mode": {
    "name": "ipython",
    "version": 3
   },
   "file_extension": ".py",
   "mimetype": "text/x-python",
   "name": "python",
   "nbconvert_exporter": "python",
   "pygments_lexer": "ipython3",
   "version": "3.10.8"
  }
 },
 "nbformat": 4,
 "nbformat_minor": 5
}
